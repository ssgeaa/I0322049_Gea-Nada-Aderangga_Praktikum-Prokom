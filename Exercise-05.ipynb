{
 "cells": [
  {
   "attachments": {},
   "cell_type": "markdown",
   "metadata": {},
   "source": [
    "1. Diberikan List sebagai berikut!"
   ]
  },
  {
   "cell_type": "code",
   "execution_count": null,
   "metadata": {},
   "outputs": [],
   "source": [
    "list1 = ['a','b','c']\n",
    "list1 = ['c','d','e']"
   ]
  },
  {
   "attachments": {},
   "cell_type": "markdown",
   "metadata": {},
   "source": [
    "Buatlah program pengulangan untuk menampilkan elemen dalam kedua list tersebut yang sama! (Contoh Output \"Nilai yang sama adalah 'C'\")"
   ]
  },
  {
   "cell_type": "code",
   "execution_count": 1,
   "metadata": {},
   "outputs": [
    {
     "name": "stdout",
     "output_type": "stream",
     "text": [
      "nilai yang sama adalah c\n"
     ]
    }
   ],
   "source": [
    "# Kerjakan nomor 1 di sini\n",
    "\n",
    "list1 = ['a', 'b', 'c']\n",
    "list2 = ['c', 'd', 'e']\n",
    "\n",
    "for huruf in list1:\n",
    "    if huruf in list2:\n",
    "        print(\"Nilai yang sama adalah\", huruf)"
   ]
  },
  {
   "attachments": {},
   "cell_type": "markdown",
   "metadata": {},
   "source": [
    "2. Buatlah sebuah list yang berisi daftar mata kuliah di Teknik Industri UNS (minimal 10 matkul). Kemudian buat program pencarian menggunakan pengulangan. Apabila nama matkul yang user inputkan sudah sesuai dengan isi list maka program akan berhenti dan menampilkan output \"Mata Kuliah (matkul yang diinput user) adalah mata kuliah di Teknik Industri UNS\"."
   ]
  },
  {
   "cell_type": "code",
   "execution_count": 5,
   "metadata": {},
   "outputs": [
    {
     "name": "stdout",
     "output_type": "stream",
     "text": [
      "Mata kuliah Psikologi Industri adalah mata kuliah di Teknik Industri UNS\n"
     ]
    }
   ],
   "source": [
    "# Kerjakan nomor 2 di sini\n",
    "\n",
    "mata_kuliah = {'Pengantar Teknik Industri',\n",
    "               'Psikologi Industri',\n",
    "               'Gambar Teknik',\n",
    "               'Mekanika Teknik',\n",
    "               'Pengantar Rekayasa dan Desain',\n",
    "               'Programa Komputer',\n",
    "               'Analisis dan Estimasi Biaya',\n",
    "               'Pengantar Ilmu Ekonomi',\n",
    "               'Fisika Dasar',\n",
    "               'Kalkulus'\n",
    "               }\n",
    "\n",
    "while True:\n",
    "    matkul = str(input(\"Masukkan nama mata kuliah dengan awalan kapital (ketik 'done' jika sudah) = \"))\n",
    "    if matkul.lower() == 'done':\n",
    "        break\n",
    "    elif matkul in mata_kuliah:\n",
    "        print(\"Mata kuliah\", matkul, \"adalah mata kuliah di Teknik Industri UNS\")\n",
    "        break\n",
    "    else:\n",
    "        print(\"Mata kuliah\", matkul, \"bukan mata kuliah di Teknik Industri UNS\")\n"
   ]
  },
  {
   "attachments": {},
   "cell_type": "markdown",
   "metadata": {},
   "source": [
    "3. Buatlah program untuk menampilkan faktorial dari suatu bilangan dimana bilangan tersebut didapat melalui input user!"
   ]
  },
  {
   "cell_type": "code",
   "execution_count": 6,
   "metadata": {},
   "outputs": [
    {
     "name": "stdout",
     "output_type": "stream",
     "text": [
      "Angka faktorial dari bilangan 9 adalah 362880\n"
     ]
    }
   ],
   "source": [
    "# Kerjakan nomor 3 di sini\n",
    "\n",
    "bilangan = int(input(\"Masukkan angka = \"))\n",
    "faktorial = 1\n",
    "\n",
    "for a in range(1, bilangan + 1):\n",
    "    faktorial *= a\n",
    "print(\"Angka faktorial dari bilangan\", bilangan, \"adalah\", faktorial)"
   ]
  }
 ],
 "metadata": {
  "kernelspec": {
   "display_name": "Python 3",
   "language": "python",
   "name": "python3"
  },
  "language_info": {
   "codemirror_mode": {
    "name": "ipython",
    "version": 3
   },
   "file_extension": ".py",
   "mimetype": "text/x-python",
   "name": "python",
   "nbconvert_exporter": "python",
   "pygments_lexer": "ipython3",
   "version": "3.10.8"
  },
  "orig_nbformat": 4
 },
 "nbformat": 4,
 "nbformat_minor": 2
}
