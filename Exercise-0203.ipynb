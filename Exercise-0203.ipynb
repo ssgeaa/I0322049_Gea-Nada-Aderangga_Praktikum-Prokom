{
 "cells": [
  {
   "cell_type": "code",
   "execution_count": 1,
   "metadata": {},
   "outputs": [
    {
     "name": "stdout",
     "output_type": "stream",
     "text": [
      "Gea Nada Aderangga\n",
      "I0322049\n",
      "B\n"
     ]
    }
   ],
   "source": [
    "print(input(\"Nama: \"))\n",
    "print(input(\"NIM: \"))\n",
    "print(input(\"Kelas: \"))"
   ]
  },
  {
   "attachments": {},
   "cell_type": "markdown",
   "metadata": {},
   "source": [
    "## 1."
   ]
  },
  {
   "attachments": {},
   "cell_type": "markdown",
   "metadata": {},
   "source": [
    "* **A** Hitunglah luas Prisma Segitiga dengan ketentuan sebagai berikut:\n",
    "    * Alas dan tutup prisma merupakan segitiga\n",
    "    * Terdapat 3 persegi panjang yang menyinggung alas dan tutup prisma\n",
    "    * Sisi persegi panjang yang menyinggung segitiga adalah sisi lebar\n",
    "```python\n",
    "    dictionary_figure = {\"Persegi\":{\"Sisi\":22},\n",
    "                        \"Persegi Panjang\":{\"Panjang\":10,\"Lebar\":5},\n",
    "                        \"Segitiga Sama Sisi\":{\"Sisi\":6,\"Tinggi\":3**(1/2) * 3},\n",
    "                        \"Lingkaran\":{\"Diameter\":7}}\n",
    "```\n",
    "* **B** Hitunglah luas Tabung dengan ketentuan sebagai berikut:\n",
    "    * Alas dan tutup tabung merupakan lingkaran\n",
    "    * Terdapat 1 persegi yang menyinggung alas dan tutup tabung\n",
    "    * Persegi yang ada mengelilingi lingkaran hingga sisi dari persegi saling bertemu\n",
    "\n",
    "> **note:** *Pada soal ini kalian hanya boleh menggunakan key-value pair dan index pada list. Tidak diperbolehkan menulis secara langsung dimensi dari figure*"
   ]
  },
  {
   "cell_type": "code",
   "execution_count": 27,
   "metadata": {},
   "outputs": [
    {
     "name": "stdout",
     "output_type": "stream",
     "text": [
      "Luas Permukaan Prisma Segitiga =  181.18\n",
      "Luas Permukaan Tabung =  522.5\n"
     ]
    }
   ],
   "source": [
    "dictionary_figure = {\"Persegi\":{\"Sisi\":22},\n",
    "                        \"Persegi Panjang\":{\"Panjang\":10,\"Lebar\":5},\n",
    "                        \"Segitiga Sama Sisi\":{\"Sisi\":6,\"Tinggi\":3**(1/2) * 3},\n",
    "                        \"Lingkaran\":{\"Diameter\":7}}\n",
    "\n",
    "a = (dictionary_figure[\"Segitiga Sama Sisi\"][\"Sisi\"])\n",
    "t = (dictionary_figure[\"Segitiga Sama Sisi\"][\"Tinggi\"])\n",
    "p = (dictionary_figure[\"Persegi Panjang\"][\"Panjang\"])\n",
    "l = (dictionary_figure[\"Persegi Panjang\"][\"Lebar\"])\n",
    "d = (dictionary_figure[\"Lingkaran\"][\"Diameter\"])\n",
    "s = (dictionary_figure[\"Persegi\"][\"Sisi\"])\n",
    "phi = 22/7\n",
    "\n",
    "hasil_A = (a*t/2)*2 + (p*l)*3\n",
    "hasil_B = (phi*(d**2)/4) + (phi*d*s)\n",
    "print(\"Luas Permukaan Prisma Segitiga = \", round(hasil_A,2))\n",
    "print(\"Luas Permukaan Tabung = \", round(hasil_B,2))"
   ]
  },
  {
   "attachments": {},
   "cell_type": "markdown",
   "metadata": {},
   "source": [
    "## 2."
   ]
  },
  {
   "attachments": {},
   "cell_type": "markdown",
   "metadata": {},
   "source": [
    "Diberikan List sebagai berikut\n",
    "```Python\n",
    "    data = [8, 8, 4, 6, 8, 9, 6, 5, 4, 7]\n",
    "```\n",
    "* Tambahkan 3 angka baru ke dalam list\n",
    "* Tampilkan output list dengan berurutan dari yang terkecil hingga yang terbesar\n",
    "* Tentukan mean, median, dan modus pada list baru"
   ]
  },
  {
   "cell_type": "code",
   "execution_count": 28,
   "metadata": {},
   "outputs": [
    {
     "name": "stdout",
     "output_type": "stream",
     "text": [
      "urutan data =  [4, 4, 5, 6, 6, 7, 8, 8, 8, 8, 9, 9, 10]\n",
      "mean =  7.08\n",
      "median =  8\n",
      "modus =  8\n"
     ]
    }
   ],
   "source": [
    "a1 = int(input(\"masukkan angka pertama\"))\n",
    "a2 = int(input(\"masukkan angka kedua\"))\n",
    "a3 = int(input(\"masukkan angka ketiga\"))\n",
    "a4 = [8, 8, 4, 6, 8, 9, 6, 5, 4, 7]\n",
    "\n",
    "a5 = [a1,a2,a3] \n",
    "a4.extend(a5)\n",
    "a4.sort()\n",
    "print(\"urutan data = \", a4)\n",
    "\n",
    "m1 = round((sum(a4))/13,2) #mean\n",
    "m2 = a4[6] #median\n",
    "m3 = max(a4, key=a4.count) #modus\n",
    "print(\"mean = \", m1)\n",
    "print(\"median = \", m2)\n",
    "print(\"modus = \", m3)"
   ]
  },
  {
   "attachments": {},
   "cell_type": "markdown",
   "metadata": {},
   "source": [
    "## 3. "
   ]
  },
  {
   "attachments": {},
   "cell_type": "markdown",
   "metadata": {},
   "source": [
    "Dalam pembuatan SIM ada beberapa syarat yang harus dipenuhi bagi para pembuat SIM yaitu:\n",
    "1. Pembuat SIM harus memiliki usia setidaknya 17 tahun\n",
    "2. Pembuat SIM lulus dalam tes kesehatan\n",
    "3. Pembuat SIM lulus dalam uji psikotes\n",
    "4. Pembuat SIM telah mengikuti ujian tertulis dengan nilai setidaknya 70\n",
    "5. Pembuat SIM lulus dalam simulasi berkendara\n",
    "6. Apabila pembuat SIM memiliki surat rekomendasi dari kursus berkendara maka pembuat SIM akan mendapatkan SIM (mengabaikan poin 1-5 apabila poin ke-6 terpenuhi)\n",
    "\n",
    "Buatlah input yang membuat setiap poin menjadi variabel. Output yang dihasilkan merupakan \"True\" apabila pembuat berhak mendapatkan SIM dan \"False\" apabila pembuat tidak berhak mendapatkan SIM.\n",
    "\n",
    "> **note:** *Tidak perlu menggunakan loops dalam membuat programnya*"
   ]
  },
  {
   "cell_type": "code",
   "execution_count": 2,
   "metadata": {},
   "outputs": [
    {
     "name": "stdout",
     "output_type": "stream",
     "text": [
      "Apakah gea berhak mendapatkan SIM? True\n"
     ]
    }
   ],
   "source": [
    "nama = str(input(\"Siapa nama Anda?\"))\n",
    "u = int(input(\"Berapa umur Anda sekarang?\"))\n",
    "kesehatan = str(input(\"Apakah Anda lulus Tes Kesehatan? (LULUS/TIDAK)\"))\n",
    "psikotes = str(input(\"Apakah Anda lulus Tes Psikotes? (LULUS/TIDAK)\"))\n",
    "utul = float(input(\"Berapa skor Ujian Tertulis Anda (1-100)?\"))\n",
    "simulasi = str(input(\"Apakah Anda lulus tes simulasi? (LULUS/TIDAK)\"))\n",
    "surat = str(input(\"Apakah Anda memiliki Surat Rekomendasi dari kursus? (PUNYA/TIDAK)\"))\n",
    "\n",
    "result = u >= 17 and kesehatan == \"LULUS\" and psikotes == \"LULUS\" and utul >=70 and simulasi == \"LULUS\" or surat == \"PUNYA\"\n",
    "\n",
    "print(\"Apakah\", nama, \"berhak mendapatkan SIM?\", result)"
   ]
  }
 ],
 "metadata": {
  "kernelspec": {
   "display_name": "Python 3",
   "language": "python",
   "name": "python3"
  },
  "language_info": {
   "codemirror_mode": {
    "name": "ipython",
    "version": 3
   },
   "file_extension": ".py",
   "mimetype": "text/x-python",
   "name": "python",
   "nbconvert_exporter": "python",
   "pygments_lexer": "ipython3",
   "version": "3.10.8"
  },
  "orig_nbformat": 4,
  "vscode": {
   "interpreter": {
    "hash": "fb4569285eef3a3450cb62085a5b1e0da4bce0af555edc33dcf29baf3acc1368"
   }
  }
 },
 "nbformat": 4,
 "nbformat_minor": 2
}
