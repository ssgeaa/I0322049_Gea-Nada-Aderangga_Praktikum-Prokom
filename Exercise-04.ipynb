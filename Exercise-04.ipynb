{
 "cells": [
  {
   "cell_type": "code",
   "execution_count": 2,
   "metadata": {},
   "outputs": [
    {
     "name": "stdout",
     "output_type": "stream",
     "text": [
      "Gea Nada Aderangga\n",
      "I0322049\n",
      "B\n"
     ]
    }
   ],
   "source": [
    "print(input(\"Nama: \"))\n",
    "print(input(\"NIM: \"))\n",
    "print(input(\"Kelas: \"))"
   ]
  },
  {
   "attachments": {},
   "cell_type": "markdown",
   "metadata": {},
   "source": [
    "## 1."
   ]
  },
  {
   "attachments": {},
   "cell_type": "markdown",
   "metadata": {},
   "source": [
    "Buatlah program yang meminta input string dari user, kemudian program akan menentukan string tersebut adalah palyndrome atau bukan.<br>\n",
    "* Palyndrome adalah kata atau kalimat yang jika dibalik hasilnya sama\n",
    "* kasur rusak adalah palyndrome\n",
    "\n",
    "> *note: Kerjakan soal ini dengan percabangan*"
   ]
  },
  {
   "cell_type": "code",
   "execution_count": 4,
   "metadata": {},
   "outputs": [
    {
     "name": "stdout",
     "output_type": "stream",
     "text": [
      "apakah kalimat kasur rusak termasuk kalimat palindrom?\n",
      "kalimat kasur rusak termasuk kalimat palindrom\n"
     ]
    }
   ],
   "source": [
    "# Kerjakan soal no 1 di sini\n",
    "\n",
    "pal = str(input(\"masukkan kalimat = \"))\n",
    "result = pal[::-1]\n",
    "\n",
    "print(\"apakah kalimat\", pal, \"termasuk kalimat palindrom?\")\n",
    "\n",
    "if pal == result:\n",
    "    print(\"kalimat\", pal, \"termasuk kalimat palindrom\")\n",
    "else:\n",
    "    print(\"kalimat\", pal, \"bukan merupakan kalimat palindrom\")"
   ]
  },
  {
   "attachments": {},
   "cell_type": "markdown",
   "metadata": {},
   "source": [
    "## 2."
   ]
  },
  {
   "attachments": {},
   "cell_type": "markdown",
   "metadata": {},
   "source": [
    "Buatlah program yang meminta input berupa tahun dan bulan kemudian tampilkan jumlah hari pada bulan tersebut (perbedaan pada tahun kabisat).<br>\n",
    "\n",
    "> *note: Kerjakan soal ini dengan percabangan*"
   ]
  },
  {
   "cell_type": "code",
   "execution_count": 6,
   "metadata": {},
   "outputs": [
    {
     "name": "stdout",
     "output_type": "stream",
     "text": [
      "bulan februari tahun 2020 berjumlah 29 hari\n"
     ]
    }
   ],
   "source": [
    "# Kerjakan soal no 2 di sini\n",
    "\n",
    "t = int(input(\"masukkan tahun = \"))\n",
    "b_1 = str(input(\"masukkan bulan = \"))\n",
    "b_2 = b_1.lower()\n",
    "\n",
    "klasifikasi = {\n",
    "    'tahun kabisat': {\n",
    "    'januari': 31, 'februari': 29, 'maret': 31, 'april': 30, 'mei': 31, 'juni': 30, 'juli': 31, 'agustus': 31, 'september': 30, 'oktober': 31, 'november': 30, 'desember': 31\n",
    "    },\n",
    "\n",
    "    'bukan tahun kabisat': {\n",
    "    'januari': 31, 'februari': 28, 'maret': 31, 'april': 30, 'mei': 31, 'juni': 30, 'juli': 31, 'agustus': 31, 'september': 30, 'oktober': 31, 'november': 30, 'desember': 31\n",
    "    }\n",
    "}\n",
    "\n",
    "if t % 4 == 0 and (t % 400 != 0 or t % 100 != 0):\n",
    "    print(\"bulan\", b_1, \"tahun\", t, \"berjumlah\", klasifikasi['tahun kabisat'][b_2], \"hari\")\n",
    "else:\n",
    "    print(\"bulan\", b_1, \"tahun\", t, \"berjumlah\", klasifikasi['bukan tahun kabisat'][b_2], \"hari\")"
   ]
  }
 ],
 "metadata": {
  "kernelspec": {
   "display_name": "Python 3",
   "language": "python",
   "name": "python3"
  },
  "language_info": {
   "codemirror_mode": {
    "name": "ipython",
    "version": 3
   },
   "file_extension": ".py",
   "mimetype": "text/x-python",
   "name": "python",
   "nbconvert_exporter": "python",
   "pygments_lexer": "ipython3",
   "version": "3.10.8"
  },
  "orig_nbformat": 4
 },
 "nbformat": 4,
 "nbformat_minor": 2
}
