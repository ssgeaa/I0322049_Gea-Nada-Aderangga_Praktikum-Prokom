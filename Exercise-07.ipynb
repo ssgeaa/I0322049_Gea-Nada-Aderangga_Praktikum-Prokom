{
 "cells": [
  {
   "cell_type": "code",
   "execution_count": 2,
   "metadata": {},
   "outputs": [
    {
     "data": {
      "text/plain": [
       "[[1, 2], [3, 4], [1, 2]]"
      ]
     },
     "execution_count": 2,
     "metadata": {},
     "output_type": "execute_result"
    }
   ],
   "source": [
    "#Buatlah sebuah fungsi untuk membuat matrix berdasarkan input dari user\n",
    "\n",
    "def create_matrix(baris,kolom):\n",
    "    matrix = []\n",
    "\n",
    "    #Tulis kode kamu disini\n",
    "    for x in range(baris):\n",
    "        matrix.append([])\n",
    "        for y in range(kolom):\n",
    "            element=int(input(f\"masukkan elemen matriks[{x}][{y}] = \"))\n",
    "            matrix[x].append(element)\n",
    "\n",
    "    return matrix\n",
    "\n",
    "baris = int(input('Masukkan Jumlah Baris = \\t'))\n",
    "kolom = int(input('Masukkan Jumlah Kolom = \\t'))\n",
    "\n",
    "create_matrix(baris,kolom)"
   ]
  },
  {
   "cell_type": "code",
   "execution_count": 8,
   "metadata": {},
   "outputs": [
    {
     "data": {
      "text/plain": [
       "[[2, -1], [0, 1]]"
      ]
     },
     "execution_count": 8,
     "metadata": {},
     "output_type": "execute_result"
    }
   ],
   "source": [
    "#Buatlah fungsi untuk melakukan pengurangan antar dua matrix berdasarkan input user\n",
    "\n",
    "def kurang_matrix(matrixA, matrixB):\n",
    "    kurang = [[0, 0],\n",
    "              [0, 0]]\n",
    "\n",
    "    #Tulis kode kamu disini\n",
    "    for x in range (len(matrixA)):\n",
    "        for y in range (len(matrixB[x])):\n",
    "            kurang[x][y] = matrixA[x][y] - matrixB[x][y]\n",
    "\n",
    "    return kurang\n",
    "\n",
    "matrixA = [[2, 1],\n",
    "           [0, 4]]\n",
    "matrixB = [[0, 2],\n",
    "           [0, 3]]\n",
    "\n",
    "kurang_matrix(matrixA, matrixB)\n"
   ]
  },
  {
   "cell_type": "code",
   "execution_count": 10,
   "metadata": {},
   "outputs": [
    {
     "data": {
      "text/plain": [
       "[[1.0, 2.0], [2.0, 4.0]]"
      ]
     },
     "execution_count": 10,
     "metadata": {},
     "output_type": "execute_result"
    }
   ],
   "source": [
    "#Buatlah Fungsi untuk melakukan pembagian matrix dengan skalar berdasarkan input user\n",
    "\n",
    "def bagi_matrix(matrix1, skalar):\n",
    "    hasil = [[0, 0],\n",
    "             [0, 0]]\n",
    "\n",
    "    #Tulis kode kamu disini\n",
    "    for x in range(len(matrix1)):\n",
    "        for y in range (len(matrix1[x])):\n",
    "            hasil[x][y]=matrix1[x][y]/skalar\n",
    "\n",
    "    return hasil\n",
    "\n",
    "matrix1 = [[4, 8],\n",
    "           [8, 16]]\n",
    "skalar = int(input('Matrix dibagi berapa?\\t'))\n",
    "\n",
    "bagi_matrix(matrix1, skalar)"
   ]
  }
 ],
 "metadata": {
  "kernelspec": {
   "display_name": "Python 3",
   "language": "python",
   "name": "python3"
  },
  "language_info": {
   "codemirror_mode": {
    "name": "ipython",
    "version": 3
   },
   "file_extension": ".py",
   "mimetype": "text/x-python",
   "name": "python",
   "nbconvert_exporter": "python",
   "pygments_lexer": "ipython3",
   "version": "3.10.8"
  },
  "orig_nbformat": 4
 },
 "nbformat": 4,
 "nbformat_minor": 2
}
