{
 "cells": [
  {
   "attachments": {},
   "cell_type": "markdown",
   "metadata": {},
   "source": [
    "1. Tulis program dengan fungsi untuk menentukan yang paling besar dari empat angka yang diberikan!\n",
    "     ###### Note: Angka ditentukan sendiri oleh praktikan"
   ]
  },
  {
   "cell_type": "code",
   "execution_count": null,
   "metadata": {},
   "outputs": [],
   "source": [
    "# Kerjakan Nomor 1 di bawah ini\n",
    "\n",
    "number = [3, 9, 1, 8]\n",
    "print(f\"list = {number}\")\n",
    "print(f\"nilai terbesar dari 4 angka tersebut adalah {max(number)}\")"
   ]
  },
  {
   "attachments": {},
   "cell_type": "markdown",
   "metadata": {},
   "source": [
    "2. Tulis fungsi Python yang mengambil list awal dan menampilkan list baru dengan angka unik (tidak ada angka yang sama) dari list yang pertama."
   ]
  },
  {
   "cell_type": "code",
   "execution_count": null,
   "metadata": {},
   "outputs": [],
   "source": [
    "list_awal = [9,9,9,9,9,9,9,10,11,13,14,15,17,19]"
   ]
  },
  {
   "cell_type": "code",
   "execution_count": 2,
   "metadata": {},
   "outputs": [
    {
     "name": "stdout",
     "output_type": "stream",
     "text": [
      "list awal = [9, 9, 9, 9, 9, 9, 9, 10, 11, 13, 14, 15, 17, 19]\n",
      "list akhir = [9, 10, 11, 13, 14, 15, 17, 19]\n"
     ]
    }
   ],
   "source": [
    "# Kerjakan Nomor 2 di bawah ini\n",
    "\n",
    "def unik(list_awal):\n",
    "    list_angka_unik = []\n",
    "    for angka in list_awal:\n",
    "        if angka not in list_angka_unik:\n",
    "            list_angka_unik.append(angka)\n",
    "    return list_angka_unik\n",
    "\n",
    "list_awal = [9,9,9,9,9,9,9,10,11,13,14,15,17,19]\n",
    "list_akhir = unik(list_awal)\n",
    "print(f\"list awal = {list_awal}\")\n",
    "print(f\"list akhir = {list_akhir}\")"
   ]
  },
  {
   "attachments": {},
   "cell_type": "markdown",
   "metadata": {},
   "source": [
    "3. Hitunglah 2 angka yang dapat diinputkan dengan angka kedua menjadi pangkat bagi angka pertama, dan angka kedua menjadi pembagi angka pertama (tampilkan juga sisa hasil pembagiannya) \n",
    "\n",
    "clue : gunakan fungsi yang ada di built-in tanpa menggunakan sintaks operator seperti * ataupun /."
   ]
  },
  {
   "cell_type": "code",
   "execution_count": 5,
   "metadata": {},
   "outputs": [
    {
     "name": "stdout",
     "output_type": "stream",
     "text": [
      "21 pangkat 4 = 194481\n",
      "21 dibagi 4 = 5 dengan sisa 1\n"
     ]
    }
   ],
   "source": [
    "# Kerjakan Nomor 3 di bawah ini\n",
    "\n",
    "def angka(x, y):\n",
    "    pangkat = pow(x, y)\n",
    "    bagi = divmod(x, y)\n",
    "    print(f\"{x} pangkat {y} = {pangkat}\")\n",
    "    print(f\"{x} dibagi {y} = {bagi[0]} dengan sisa {bagi[1]}\")\n",
    "\n",
    "angka(21, 4) "
   ]
  }
 ],
 "metadata": {
  "kernelspec": {
   "display_name": "Python 3",
   "language": "python",
   "name": "python3"
  },
  "language_info": {
   "codemirror_mode": {
    "name": "ipython",
    "version": 3
   },
   "file_extension": ".py",
   "mimetype": "text/x-python",
   "name": "python",
   "nbconvert_exporter": "python",
   "pygments_lexer": "ipython3",
   "version": "3.10.8"
  },
  "orig_nbformat": 4,
  "vscode": {
   "interpreter": {
    "hash": "5addf786bcd861d1ce5006f23111f8cbb206731e5b61b0a5632ba9e0252558a8"
   }
  }
 },
 "nbformat": 4,
 "nbformat_minor": 2
}
